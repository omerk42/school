{
 "cells": [
  {
   "attachments": {},
   "cell_type": "markdown",
   "metadata": {},
   "source": [
    "# <center> Scikit Learn Introuduction </center>\n"
   ]
  },
  {
   "attachments": {},
   "cell_type": "markdown",
   "metadata": {},
   "source": [
    "### Installation\n",
    "https://scikit-learn.org/stable/install.html\n",
    "\n",
    "### User Guide\n",
    "https://scikit-learn.org/stable/user_guide.html"
   ]
  },
  {
   "attachments": {},
   "cell_type": "markdown",
   "metadata": {},
   "source": [
    "# <center> Logistic Regression & Cross Validation </center>"
   ]
  },
  {
   "attachments": {},
   "cell_type": "markdown",
   "metadata": {},
   "source": [
    "# pyDataset\n",
    "Library documentation: https://pydataset.readthedocs.io/en/latest/"
   ]
  },
  {
   "cell_type": "code",
   "execution_count": 1,
   "metadata": {},
   "outputs": [],
   "source": [
    "from pydataset import data\n",
    "data()"
   ]
  },
  {
   "cell_type": "code",
   "execution_count": null,
   "metadata": {},
   "outputs": [],
   "source": [
    "import pandas as pd\n",
    "pd.set_option(\"display.max_rows\", None, \"display.max_columns\", None)\n",
    "\n"
   ]
  },
  {
   "cell_type": "code",
   "execution_count": null,
   "metadata": {},
   "outputs": [],
   "source": [
    "admit= data('admit')\n",
    "admit"
   ]
  },
  {
   "cell_type": "code",
   "execution_count": null,
   "metadata": {},
   "outputs": [],
   "source": [
    "data('admit', show_doc=True)\n",
    "\n"
   ]
  },
  {
   "cell_type": "code",
   "execution_count": null,
   "metadata": {},
   "outputs": [],
   "source": [
    "admit.plot()"
   ]
  },
  {
   "attachments": {},
   "cell_type": "markdown",
   "metadata": {},
   "source": [
    "# Logistic Regression & Cross Validation\n",
    "\n",
    "We will use logistic regression to classify breast cancer as either malignant or benign. First run the code below to print and read the description of the dataset. "
   ]
  },
  {
   "cell_type": "code",
   "execution_count": null,
   "metadata": {},
   "outputs": [],
   "source": [
    "from sklearn.datasets import load_breast_cancer\n",
    "import numpy as np\n",
    "\n",
    "DataCancer=load_breast_cancer()\n",
    "print(DataCancer.keys())\n",
    "print(DataCancer.DESCR)\n",
    "\n",
    "X_features=DataCancer.data\n",
    "Y_targetClass=DataCancer.target"
   ]
  },
  {
   "cell_type": "code",
   "execution_count": null,
   "metadata": {},
   "outputs": [],
   "source": [
    "from sklearn.linear_model import LogisticRegression\n",
    "from sklearn.model_selection import train_test_split\n",
    "from sklearn.datasets import load_breast_cancer\n",
    "import numpy as np\n",
    "\n",
    "DataCancer=load_breast_cancer()\n",
    "\n",
    "X_features=DataCancer.data\n",
    "Y_targetClass=np.ravel(DataCancer.target)\n",
    "\n",
    "X_train, X_test, Y_train, Y_test = train_test_split(\n",
    "    X_features, Y_targetClass, random_state=42)\n",
    "c=1\n",
    "\n",
    "FittedLogRegModel= LogisticRegression(C=c,max_iter=10000).fit(X_train,Y_train)\n",
    "    \n",
    "test_score = FittedLogRegModel.score(X_test, Y_test)\n",
    "print(\"Test set score\", test_score)"
   ]
  },
  {
   "cell_type": "code",
   "execution_count": null,
   "metadata": {},
   "outputs": [],
   "source": [
    "from IPython.display import Image\n",
    "Image(\"overfitting.png\")"
   ]
  },
  {
   "attachments": {},
   "cell_type": "markdown",
   "metadata": {},
   "source": [
    "### A) Using logistic regression, with ridge regularization and tuning parameter set to 1. Then, we will find the accuracy of the model. Scale the features  to have zero mean and unit variance. \n",
    "- Use random_state = 0 in the train_test_split."
   ]
  },
  {
   "cell_type": "code",
   "execution_count": null,
   "metadata": {},
   "outputs": [],
   "source": [
    "from sklearn import preprocessing\n",
    "from sklearn.linear_model import LogisticRegression\n",
    "from sklearn.model_selection import train_test_split\n",
    "\n",
    "st_scaler_x = preprocessing.StandardScaler()\n",
    "x_scaled = st_scaler_x.fit_transform(X_features)\n",
    "X_train, X_test, Y_train, Y_test = train_test_split( x_scaled , Y_targetClass, random_state= 0)\n",
    "LogRegModel = LogisticRegression(C=1).fit(X_train, Y_train) #max_iter= 500\n",
    "R2 = LogRegModel.score(X_test, Y_test)\n",
    "\n",
    "\n",
    "print(\"R^2 = \", R2)\n",
    "\n",
    "\n"
   ]
  },
  {
   "attachments": {},
   "cell_type": "markdown",
   "metadata": {},
   "source": [
    "### B) For the same problem, we will use logistic regression but want to select the best tuning parameter of Ridge regularization in logistic regression. We try the following set of values for the tuning parameter: [0.01, 0.1, 1, 10, 100], and use the five fold cross validation. We will find the best tuning parameter in this set, and test accuracy of the model when the best tuning parameter is selected. \n"
   ]
  },
  {
   "attachments": {},
   "cell_type": "markdown",
   "metadata": {},
   "source": [
    "## <center> Cross validation process </center>\n",
    "\n",
    "![Cross validation](https://scikit-learn.org/stable/_images/grid_search_workflow.png)\n",
    "\n",
    "[Useful Resource](https://scikit-learn.org/stable/modules/cross_validation.html#cross-validation)"
   ]
  },
  {
   "cell_type": "code",
   "execution_count": null,
   "metadata": {},
   "outputs": [],
   "source": [
    "from sklearn import preprocessing\n",
    "from sklearn.linear_model import LogisticRegression\n",
    "from sklearn.model_selection import train_test_split\n",
    "from sklearn.model_selection import cross_val_score\n",
    "st_scaler_x = preprocessing.StandardScaler()\n",
    "x_scaled = st_scaler_x.fit_transform(X_features)\n",
    "X_trainval, X_test, Y_trainval, Y_test = train_test_split(x_scaled , Y_targetClass, random_state= 0)\n",
    "\n",
    "\n",
    "best_score = 0 \n",
    "kfolds=5\n",
    "# C:float, default=1.0\n",
    "# Inverse of regularization strength; must be a positive float.\n",
    "# Like in support vector machines, smaller values specify stronger regularization.\n",
    "# -----------------------------------------------------------------\n",
    "for c in [0.01, 0.1, 1, 10, 100]: \n",
    "    print('======================= c=', c, \"=======================\")\n",
    "    model = LogisticRegression(C=c, max_iter=500) # \n",
    "    scores =cross_val_score(model, X_trainval, Y_trainval, cv=kfolds)\n",
    "    print('Scores= ') # Show the score for each fold\n",
    "    print(scores)\n",
    "    score =np.mean(scores)\n",
    "    print(\"Mean score=\", score) # Show the mean score for the c parameter\n",
    "    if score > best_score:\n",
    "        best_score =score\n",
    "        best_parameters = c\n",
    "\n",
    "SelectedModel =LogisticRegression(C=best_parameters).fit(X_trainval, Y_trainval)\n",
    "test_score =SelectedModel.score(X_test, Y_test)\n",
    "print(\"Best score on validation set is:\", best_score)\n",
    "print(\"Best parameter for regularization (alpha) is:\", best_parameters)\n",
    "print (\"Test set score with best C parameter is\", test_score)"
   ]
  },
  {
   "attachments": {},
   "cell_type": "markdown",
   "metadata": {},
   "source": [
    "## Now your turn. Use the dataset, \"admit\" from pyDataset , to build a Logistic regression model with Cross Validation."
   ]
  },
  {
   "cell_type": "code",
   "execution_count": null,
   "metadata": {},
   "outputs": [],
   "source": [
    "admit= data('admit')\n",
    "admit\n"
   ]
  },
  {
   "cell_type": "code",
   "execution_count": null,
   "metadata": {},
   "outputs": [],
   "source": [
    "admit"
   ]
  },
  {
   "cell_type": "code",
   "execution_count": null,
   "metadata": {},
   "outputs": [],
   "source": [
    "type(admit)"
   ]
  },
  {
   "cell_type": "code",
   "execution_count": null,
   "metadata": {},
   "outputs": [],
   "source": []
  }
 ],
 "metadata": {
  "kernelspec": {
   "display_name": "Python 3",
   "language": "python",
   "name": "python3"
  },
  "language_info": {
   "codemirror_mode": {
    "name": "ipython",
    "version": 3
   },
   "file_extension": ".py",
   "mimetype": "text/x-python",
   "name": "python",
   "nbconvert_exporter": "python",
   "pygments_lexer": "ipython3",
   "version": "3.10.6"
  }
 },
 "nbformat": 4,
 "nbformat_minor": 2
}
